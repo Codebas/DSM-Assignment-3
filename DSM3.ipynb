{
 "cells": [
  {
   "cell_type": "markdown",
   "id": "db97c05d-d954-44c4-bb83-59a63b08f073",
   "metadata": {},
   "source": [
    "#1 Answer"
   ]
  },
  {
   "cell_type": "code",
   "execution_count": 2,
   "id": "c7fb986f-627a-4d89-a03a-00577e8d7dcf",
   "metadata": {},
   "outputs": [
    {
     "name": "stdout",
     "output_type": "stream",
     "text": [
      "[1, 3, 5, 7, 9, 11, 13, 15, 17, 19, 21, 23, 25]\n"
     ]
    }
   ],
   "source": [
    "def get_odd_numbers():\n",
    "    odd_numbers = []\n",
    "    for num in range(1, 26):\n",
    "        if num % 2 != 0:\n",
    "            odd_numbers.append(num)\n",
    "    return odd_numbers\n",
    "\n",
    "# Call the function and store the result in a variable\n",
    "result = get_odd_numbers()\n",
    "\n",
    "print(result)"
   ]
  },
  {
   "cell_type": "markdown",
   "id": "9b7cf051-709b-467b-a5df-9fcc86c4d453",
   "metadata": {},
   "source": [
    "#2 Answer"
   ]
  },
  {
   "cell_type": "markdown",
   "id": "c3b70fa7-182b-4468-8864-71580a409c60",
   "metadata": {},
   "source": [
    "In Python, *args and **kwargs are special syntax used in function definitions to handle a variable number of arguments in a more flexible way.\n",
    "\n",
    "*args: This syntax allows a function to accept any number of positional arguments. The args parameter is a tuple that holds all the positional arguments passed to the function.\n",
    "\n",
    "**kwargs: This syntax allows a function to accept any number of keyword arguments (key-value pairs). The kwargs parameter is a dictionary that holds all the keyword arguments passed to the function.\n",
    "\n",
    "Here are examples demonstrating the use of *args and **kwargs:"
   ]
  },
  {
   "cell_type": "code",
   "execution_count": 3,
   "id": "1069619e-200c-496f-bc00-727045a887c1",
   "metadata": {},
   "outputs": [
    {
     "name": "stdout",
     "output_type": "stream",
     "text": [
      "15\n"
     ]
    }
   ],
   "source": [
    "# *args example\n",
    "def add_numbers(*args):\n",
    "    total = 0\n",
    "    for num in args:\n",
    "        total += num\n",
    "    return total\n",
    "\n",
    "result = add_numbers(1, 2, 3, 4, 5)\n",
    "print(result)  "
   ]
  },
  {
   "cell_type": "code",
   "execution_count": 4,
   "id": "c8ebaf2f-80d5-4cda-ade7-d7d4ed7ae147",
   "metadata": {},
   "outputs": [
    {
     "name": "stdout",
     "output_type": "stream",
     "text": [
      "name: John\n",
      "age: 30\n",
      "country: USA\n"
     ]
    }
   ],
   "source": [
    "# **kwargs example\n",
    "def display_info(**kwargs):\n",
    "    for key, value in kwargs.items():\n",
    "        print(f\"{key}: {value}\")\n",
    "\n",
    "display_info(name=\"John\", age=30, country=\"USA\")"
   ]
  },
  {
   "cell_type": "markdown",
   "id": "c12cdb9e-aadf-49dd-bfce-c28ea6755c92",
   "metadata": {},
   "source": [
    "#3 Answer"
   ]
  },
  {
   "cell_type": "code",
   "execution_count": 5,
   "id": "a59a6871-0b92-4c9a-88c6-c3d14100f213",
   "metadata": {},
   "outputs": [
    {
     "name": "stdout",
     "output_type": "stream",
     "text": [
      "2\n",
      "4\n",
      "6\n",
      "8\n",
      "10\n"
     ]
    }
   ],
   "source": [
    "my_list = [2, 4, 6, 8, 10, 12, 14, 16, 18, 20]\n",
    "\n",
    "# Initialize the iterator\n",
    "my_iterator = iter(my_list)\n",
    "\n",
    "# Print the first five elements using the iterator\n",
    "for _ in range(5):\n",
    "    element = next(my_iterator)\n",
    "    print(element)\n"
   ]
  },
  {
   "cell_type": "markdown",
   "id": "0702d140-a24c-4fd5-a157-9e5d82a94498",
   "metadata": {},
   "source": [
    "#4 Answer"
   ]
  },
  {
   "cell_type": "code",
   "execution_count": 6,
   "id": "3df084d4-219a-4589-8b10-0019fbd87dd4",
   "metadata": {},
   "outputs": [
    {
     "name": "stdout",
     "output_type": "stream",
     "text": [
      "0\n",
      "1\n",
      "4\n",
      "9\n",
      "16\n"
     ]
    }
   ],
   "source": [
    "def square_generator(n):\n",
    "    for i in range(n):\n",
    "        yield i ** 2\n",
    "\n",
    "# Using the generator in a for loop\n",
    "for square in square_generator(5):\n",
    "    print(square)\n"
   ]
  },
  {
   "cell_type": "markdown",
   "id": "d46490fa-9665-41c8-b699-ca04da97419e",
   "metadata": {},
   "source": [
    "#5 Answer"
   ]
  },
  {
   "cell_type": "code",
   "execution_count": 10,
   "id": "d8184542-cabc-4c62-b83a-4d89e03eb8b1",
   "metadata": {},
   "outputs": [
    {
     "name": "stdout",
     "output_type": "stream",
     "text": [
      "2\n",
      "3\n",
      "5\n",
      "7\n",
      "11\n",
      "13\n",
      "17\n",
      "19\n",
      "23\n",
      "29\n",
      "31\n",
      "37\n",
      "41\n",
      "43\n",
      "47\n",
      "53\n",
      "59\n",
      "61\n",
      "67\n",
      "71\n"
     ]
    }
   ],
   "source": [
    "def is_prime(num):\n",
    "    if num <= 1:\n",
    "        return False\n",
    "    if num <= 3:\n",
    "        return True\n",
    "    if num % 2 == 0 or num % 3 == 0:\n",
    "        return False\n",
    "    i = 5\n",
    "    while i * i <= num:\n",
    "        if num % i == 0 or num % (i + 2) == 0:\n",
    "            return False\n",
    "        i += 6\n",
    "    return True\n",
    "\n",
    "def prime_generator(limit):\n",
    "    num = 2\n",
    "    while num < limit:\n",
    "        if is_prime(num):\n",
    "            yield num\n",
    "        num += 1\n",
    "\n",
    "# Using the generator with next() to print the first 20 prime numbers\n",
    "prime_gen = prime_generator(1000)\n",
    "for _ in range(20):\n",
    "    prime = next(prime_gen)\n",
    "    print(prime)"
   ]
  },
  {
   "cell_type": "code",
   "execution_count": null,
   "id": "6a6fc562-d879-436f-8987-ad832620165b",
   "metadata": {},
   "outputs": [],
   "source": []
  }
 ],
 "metadata": {
  "kernelspec": {
   "display_name": "Python 3 (ipykernel)",
   "language": "python",
   "name": "python3"
  },
  "language_info": {
   "codemirror_mode": {
    "name": "ipython",
    "version": 3
   },
   "file_extension": ".py",
   "mimetype": "text/x-python",
   "name": "python",
   "nbconvert_exporter": "python",
   "pygments_lexer": "ipython3",
   "version": "3.10.8"
  }
 },
 "nbformat": 4,
 "nbformat_minor": 5
}
